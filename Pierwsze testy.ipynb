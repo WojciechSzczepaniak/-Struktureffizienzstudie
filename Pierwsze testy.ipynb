{
 "cells": [
  {
   "cell_type": "code",
   "execution_count": 1,
   "metadata": {},
   "outputs": [],
   "source": [
    "import sys\n",
    "import datetime\n",
    "import random\n",
    "import matplotlib.pyplot as plt\n",
    "import time\n",
    "from matplotlib.pyplot import figure\n",
    "import numpy as np"
   ]
  },
  {
   "cell_type": "markdown",
   "metadata": {},
   "source": [
    "# AVL tree"
   ]
  },
  {
   "cell_type": "code",
   "execution_count": 2,
   "metadata": {},
   "outputs": [],
   "source": [
    "class AVLTreeNode(object):\n",
    "    def __init__(self, key):\n",
    "        self.key = key\n",
    "        self.left = None\n",
    "        self.right = None\n",
    "        self.height = 1\n",
    "        #increase size of node\n",
    "        self.value1 = key\n",
    "        self.value2 = key\n",
    " \n",
    " \n",
    "class AVLTree(object):\n",
    " \n",
    "    def find(self, root, key):\n",
    "        while root:\n",
    "            if root.key == key:\n",
    "                print(\"Found\")\n",
    "                break\n",
    "            root = root.right if root.key < key else root.left\n",
    "        return root\n",
    " \n",
    "    def rangeSearch(self, root, k1, k2):\n",
    "        if root is None:\n",
    "            return\n",
    " \n",
    "        if k1 < root.key :\n",
    "            self.rangeSearch(root.left, k1, k2)\n",
    " \n",
    "        if k1 <= root.key and k2 >= root.key:\n",
    "            print(root.key, end=', '),\n",
    " \n",
    "        if k2 > root.key:\n",
    "            self.rangeSearch(root.right, k1, k2)\n",
    " \n",
    "    # Function to insert a node\n",
    "    def insert_node(self, root, key):\n",
    " \n",
    "        # Find the correct location and insert the node\n",
    "        if not root:\n",
    "            return AVLTreeNode(key)\n",
    "        elif key < root.key:\n",
    "            root.left = self.insert_node(root.left, key)\n",
    "        else:\n",
    "            root.right = self.insert_node(root.right, key)\n",
    " \n",
    "        root.height = 1 + max(self.getHeight(root.left),\n",
    "                              self.getHeight(root.right))\n",
    " \n",
    "        # Update the balance factor and balance the tree\n",
    "        balanceFactor = self.getBalance(root)\n",
    "        if balanceFactor > 1:\n",
    "            if key < root.left.key:\n",
    "                return self.rightRotate(root)\n",
    "            else:\n",
    "                root.left = self.leftRotate(root.left)\n",
    "                return self.rightRotate(root)\n",
    " \n",
    "        if balanceFactor < -1:\n",
    "            if key > root.right.key:\n",
    "                return self.leftRotate(root)\n",
    "            else:\n",
    "                root.right = self.rightRotate(root.right)\n",
    "                return self.leftRotate(root)\n",
    " \n",
    "        return root\n",
    " \n",
    "    # Function to delete a node\n",
    "    def delete_node(self, root, key):\n",
    " \n",
    "        # Find the node to be deleted and remove it\n",
    "        if not root:\n",
    "            return root\n",
    "        elif key < root.key:\n",
    "            root.left = self.delete_node(root.left, key)\n",
    "        elif key > root.key:\n",
    "            root.right = self.delete_node(root.right, key)\n",
    "        else:\n",
    "            if root.left is None:\n",
    "                temp = root.right\n",
    "                root = None\n",
    "                return temp\n",
    "            elif root.right is None:\n",
    "                temp = root.left\n",
    "                root = None\n",
    "                return temp\n",
    "            temp = self.getMinValueNode(root.right)\n",
    "            root.key = temp.key\n",
    "            root.right = self.delete_node(root.right,\n",
    "                                          temp.key)\n",
    "        if root is None:\n",
    "            return root\n",
    " \n",
    "        # Update the balance factor of nodes\n",
    "        root.height = 1 + max(self.getHeight(root.left),\n",
    "                              self.getHeight(root.right))\n",
    " \n",
    "        balanceFactor = self.getBalance(root)\n",
    " \n",
    "        # Balance the tree\n",
    "        if balanceFactor > 1:\n",
    "            if self.getBalance(root.left) >= 0:\n",
    "                return self.rightRotate(root)\n",
    "            else:\n",
    "                root.left = self.leftRotate(root.left)\n",
    "                return self.rightRotate(root)\n",
    "        if balanceFactor < -1:\n",
    "            if self.getBalance(root.right) <= 0:\n",
    "                return self.leftRotate(root)\n",
    "            else:\n",
    "                root.right = self.rightRotate(root.right)\n",
    "                return self.leftRotate(root)\n",
    "        return root\n",
    " \n",
    "    # Function to perform left rotation\n",
    "    def leftRotate(self, z):\n",
    "        y = z.right\n",
    "        T2 = y.left\n",
    "        y.left = z\n",
    "        z.right = T2\n",
    "        z.height = 1 + max(self.getHeight(z.left),\n",
    "                           self.getHeight(z.right))\n",
    "        y.height = 1 + max(self.getHeight(y.left),\n",
    "                           self.getHeight(y.right))\n",
    "        return y\n",
    " \n",
    "    # Function to perform right rotation\n",
    "    def rightRotate(self, z):\n",
    "        y = z.left\n",
    "        T3 = y.right\n",
    "        y.right = z\n",
    "        z.left = T3\n",
    "        z.height = 1 + max(self.getHeight(z.left),\n",
    "                           self.getHeight(z.right))\n",
    "        y.height = 1 + max(self.getHeight(y.left),\n",
    "                           self.getHeight(y.right))\n",
    "        return y\n",
    " \n",
    "    # Get the height of the node\n",
    "    def getHeight(self, root):\n",
    "        if not root:\n",
    "            return 0\n",
    "        return root.height\n",
    " \n",
    "    # Get balance factore of the node\n",
    "    def getBalance(self, root):\n",
    "        if not root:\n",
    "            return 0\n",
    "        return self.getHeight(root.left) - self.getHeight(root.right)\n",
    " \n",
    "    def getMinValueNode(self, root):\n",
    "        if root is None or root.left is None:\n",
    "            return root\n",
    "        return self.getMinValueNode(root.left)\n",
    " \n",
    "    # Print the tree\n",
    "    def printHelper(self, currPtr, indent, last):\n",
    "        if currPtr != None:\n",
    "            sys.stdout.write(indent)\n",
    "            if last:\n",
    "                sys.stdout.write(\"R----\")\n",
    "                indent += \"     \"\n",
    "            else:\n",
    "                sys.stdout.write(\"L----\")\n",
    "                indent += \"|    \"\n",
    "            print(currPtr.key)\n",
    "            self.printHelper(currPtr.left, indent, False)\n",
    "            self.printHelper(currPtr.right, indent, True)"
   ]
  },
  {
   "cell_type": "code",
   "execution_count": 3,
   "metadata": {},
   "outputs": [
    {
     "name": "stdout",
     "output_type": "stream",
     "text": [
      "R----33\n",
      "     L----13\n",
      "     |    L----9\n",
      "     |    |    L----8\n",
      "     |    |    R----11\n",
      "     |    R----21\n",
      "     R----52\n",
      "          R----61\n",
      "After Deletion: \n",
      "R----33\n",
      "     L----9\n",
      "     |    L----8\n",
      "     |    R----21\n",
      "     |         L----11\n",
      "     R----52\n",
      "          R----61\n",
      "Found\n",
      "9, 11, 21, 33, "
     ]
    }
   ],
   "source": [
    "myTree = AVLTree()\n",
    "root = None\n",
    "nums = [33, 13, 52, 9, 21, 61, 8, 11]\n",
    "for num in nums:\n",
    "    root = myTree.insert_node(root, num)\n",
    "myTree.printHelper(root, \"\", True)\n",
    "key = 13\n",
    "root = myTree.delete_node(root, key)\n",
    "print(\"After Deletion: \")\n",
    "myTree.printHelper(root, \"\", True)\n",
    " \n",
    "myTree.find(root, 21)\n",
    " \n",
    "myTree.rangeSearch(root, 9, 39)"
   ]
  },
  {
   "cell_type": "markdown",
   "metadata": {},
   "source": [
    "# T tree"
   ]
  },
  {
   "cell_type": "code",
   "execution_count": 4,
   "metadata": {},
   "outputs": [],
   "source": [
    "minSize = 2\n",
    "maxSize = 1500\n",
    "global globalId\n",
    "globalId = 1\n",
    "\n",
    "class TTreeNode(object):\n",
    "    def __init__(self, key, parent):\n",
    "        global globalId\n",
    "        self.id = globalId\n",
    "        globalId = globalId + 1\n",
    "        self.parent = parent\n",
    "        self.keys = [key]\n",
    "        self.valueDict = {key : [key, key]}\n",
    "        self.minKey = key\n",
    "        self.maxKey = key\n",
    "        self.left = None\n",
    "        self.right = None\n",
    "        self.height = 1\n",
    "\n",
    "class TTree(object):\n",
    " \n",
    "    def find(self, root, key):\n",
    "        while root:\n",
    "            if root.minKey <= key and key <= root.maxKey:\n",
    "                if key in root.keys:\n",
    "                    print(\"Found\")\n",
    "                else:\n",
    "                    print(\"Not found\")\n",
    "                break\n",
    "            root = root.right if root.maxKey < key else root.left\n",
    "        return root\n",
    " \n",
    "    def rangeSearch(self, root, k1, k2):\n",
    "        if root is None:\n",
    "            return\n",
    " \n",
    "        if k1 < root.minKey :\n",
    "            self.rangeSearch(root.left, k1, k2)\n",
    " \n",
    "        if (k1 <= root.minKey and k1 >= root.minKey) or (k2 <= root.minKey and k2 >= root.minKey) or (k1 <= root.minKey and k2 >= root.maxKey):\n",
    "            print(*list(filter(lambda k: k >= k1 and k <= k2, root.keys)), sep=\" \", end=' ')\n",
    " \n",
    "        if k2 > root.maxKey:\n",
    "            self.rangeSearch(root.right, k1, k2)\n",
    " \n",
    " \n",
    "    # Function to insert a node\n",
    "    def new_insert_node(self, root, parent, key):\n",
    " \n",
    "        newNode = None\n",
    " \n",
    "        # Find the correct location and insert the node\n",
    "        if not root:\n",
    "            newNode = TTreeNode(key, parent)\n",
    "            return (newNode, newNode)\n",
    " \n",
    "        foundNode = self.search_bounding(root, key, False)\n",
    " \n",
    "        if foundNode is not None:\n",
    "            if len(foundNode.keys) < maxSize:\n",
    "                foundNode.keys.append(key)\n",
    "                foundNode.valueDict[key]=[key, key]\n",
    "                foundNode.keys.sort();\n",
    "                foundNode.minKey = min(foundNode.keys)\n",
    "                foundNode.maxKey = max(foundNode.keys)\n",
    "                return (root, newNode)\n",
    "            else:\n",
    "                foundNode.keys.append(key)\n",
    "                foundNode.valueDict[key]=[key, key]\n",
    "                foundNode.keys = foundNode.keys[1:]\n",
    "                foundNode.keys.sort();\n",
    "                removedMin = foundNode.minKey\n",
    "                foundNode.minKey = min(foundNode.keys)\n",
    "                foundNode.maxKey = max(foundNode.keys)\n",
    "                (foundNode.left, newNode) = self.new_insert_node(foundNode.left, foundNode, removedMin)\n",
    "                key = removedMin\n",
    " \n",
    "        foundNode.height = 1 + max(self.getHeight(foundNode.left),\n",
    "                              self.getHeight(foundNode.right))\n",
    " \n",
    "        return (root, newNode)\n",
    " \n",
    " \n",
    "    def search_bounding(self, root, key, forDelete):\n",
    "        if not root:\n",
    "            return None\n",
    "        elif root.minKey <= key and key <= root.maxKey:\n",
    "            return root\n",
    "        elif key < root.minKey:\n",
    "            found = self.search_bounding(root.left, key, forDelete)\n",
    "        elif key > root.maxKey:\n",
    "            found = self.search_bounding(root.right, key, forDelete)\n",
    "        if forDelete:\n",
    "            return found\n",
    "        if not found:\n",
    "            return root\n",
    "        else:\n",
    "            return found\n",
    " \n",
    "    # Function to delete a node\n",
    "    def delete_node(self, root, key):\n",
    "        foundNode = self.search_bounding(root, key, True)\n",
    "        if foundNode is None:\n",
    "            print('Value not found in tree')\n",
    "            return\n",
    " \n",
    "        foundNode.keys.remove(key)\n",
    "        del foundNode.valueDict[key]\n",
    " \n",
    "        if len(foundNode.keys) >= minSize:\n",
    "            foundNode.keys.sort();\n",
    "            foundNode.minKey = min(foundNode.keys)\n",
    "            foundNode.maxKey = max(foundNode.keys)\n",
    " \n",
    "            return None\n",
    " \n",
    "        if foundNode.left is not None and foundNode.right is not None: #internal node\n",
    "            glw = self.getGreatestLowerBound(foundNode.left)\n",
    " \n",
    "            if glw is None:\n",
    "                return None\n",
    " \n",
    "            foundNode.keys.append(glw)\n",
    "            foundNode.valueDict[glw]=[glw, glw]\n",
    "            foundNode.keys.sort();\n",
    "            foundNode.minKey = min(foundNode.keys)\n",
    "            foundNode.maxKey = max(foundNode.keys)\n",
    " \n",
    "        elif foundNode.left is None and foundNode.right is not None: #half-leaf node\n",
    "            if len(foundNode.keys) + len(foundNode.right.keys) <= maxSize:\n",
    "                foundNode.keys.extend(foundNode.right.keys)\n",
    "                foundNode.valueDict.update(foundNode.right.valueDict)\n",
    "                foundNode.keys.sort();\n",
    "                foundNode.minKey = min(foundNode.keys)\n",
    "                foundNode.maxKey = max(foundNode.keys)\n",
    " \n",
    "                foundNode.right = None\n",
    "                foundNode.height = 1\n",
    " \n",
    "        elif foundNode.right is None and foundNode.left is not None: #half-leaf node\n",
    "            if len(foundNode.keys) + len(foundNode.left.keys) <= maxSize:\n",
    "                foundNode.keys.extend(foundNode.left.keys)\n",
    "                foundNode.valueDict.update(foundNode.left.valueDict)\n",
    "                foundNode.keys.sort();\n",
    "                foundNode.minKey = min(foundNode.keys)\n",
    "                foundNode.maxKey = max(foundNode.keys)\n",
    " \n",
    "                foundNode.left = None\n",
    "                foundNode.height = 1\n",
    " \n",
    "        else:\n",
    "            if len(foundNode.keys) > 0:\n",
    "                foundNode.keys.sort();\n",
    "                foundNode.minKey = min(foundNode.keys)\n",
    "                foundNode.maxKey = max(foundNode.keys)\n",
    " \n",
    "                return\n",
    "            else:\n",
    "                if foundNode.parent.right == foundNode:\n",
    "                    parent = foundNode.parent\n",
    "                    parent.right = None\n",
    "                    foundNode = None\n",
    "                else:\n",
    "                    parent = foundNode.parent\n",
    "                    parent.left = None\n",
    "                    foundNode = None\n",
    " \n",
    "        if foundNode:\n",
    "            return self.balanceTree(foundNode, None)\n",
    "        else:\n",
    "            return self.balanceTree(parent, None)\n",
    " \n",
    "    # Function to perform left rotation\n",
    "    def leftRotate(self, z):\n",
    "        y = z.right\n",
    "        T2 = y.left\n",
    "        y.left = z\n",
    "        z.right = T2\n",
    "        z.height = 1 + max(self.getHeight(z.left),\n",
    "                           self.getHeight(z.right))\n",
    "        y.height = 1 + max(self.getHeight(y.left),\n",
    "                           self.getHeight(y.right))\n",
    " \n",
    " \n",
    "        if z.parent and z.parent.left == z:\n",
    "            z.parent.left = y\n",
    "        elif z.parent:\n",
    "            z.parent.right = y\n",
    " \n",
    " \n",
    " \n",
    "        y.parent = z.parent\n",
    "        z.parent = y\n",
    "        if T2 is not None:\n",
    "            T2.parent = z\n",
    " \n",
    "        return y\n",
    " \n",
    "    # Function to perform right rotation\n",
    "    def rightRotate(self, z):\n",
    "        y = z.left\n",
    "        T3 = y.right\n",
    "        y.right = z\n",
    "        z.left = T3\n",
    "        z.height = 1 + max(self.getHeight(z.left),\n",
    "                           self.getHeight(z.right))\n",
    "        y.height = 1 + max(self.getHeight(y.left),\n",
    "                           self.getHeight(y.right))\n",
    " \n",
    "        if z.parent and z.parent.left == z:\n",
    "            z.parent.left = y\n",
    "        elif z.parent:\n",
    "            z.parent.right = y\n",
    " \n",
    "        y.parent = z.parent\n",
    "        z.parent = y\n",
    "        if T3 is not None:\n",
    "            T3.parent = z\n",
    "        return y\n",
    " \n",
    "    # Get the height of the node\n",
    "    def getHeight(self, root):\n",
    "        if not root:\n",
    "            return 0\n",
    "        return root.height\n",
    " \n",
    "    # Get balance factore of the node\n",
    "    def getBalance(self, root):\n",
    "        if not root:\n",
    "            return 0\n",
    "        return self.getHeight(root.left) - self.getHeight(root.right)\n",
    " \n",
    "    def getGreatestLowerBound(self, node):\n",
    "        if node is None:\n",
    "            return None\n",
    "        if node.right is None:\n",
    "            maxKey = node.maxKey\n",
    "            node.keys.remove(maxKey)\n",
    "            del node.valueDict[maxKey]\n",
    " \n",
    "            if len(node.keys) == 0:\n",
    "                if len(node.parent.right.keys) == 0:\n",
    "                    node.parent.right = node.left\n",
    "                    if node.left:\n",
    "                        node.left.parent = node.parent\n",
    "                        node.parent.height = node.parent.height - 1\n",
    "                else:\n",
    "                    node.parent.left = node.left\n",
    "                    if node.left:\n",
    "                        node.left.parent = node.parent\n",
    "                        node.parent.height = node.parent.height - 1\n",
    "            else:\n",
    "                node.keys.sort();\n",
    "                node.minKey = min(node.keys)\n",
    "                node.maxKey = max(node.keys)\n",
    "            return maxKey\n",
    "        return self.getGreatestLowerBound(node.right)\n",
    " \n",
    " \n",
    "    def balanceTree(self, node, parent):\n",
    "        tempNode = node\n",
    "        while node and node != parent:\n",
    "            tempNode = node\n",
    "            balanceFactor = self.getBalance(node)\n",
    "            if balanceFactor > 1:\n",
    "                if self.getBalance(node.left) >= 1:\n",
    "                    node = self.rightRotate(node)\n",
    "                else:\n",
    "                    node.left = self.leftRotate(node.left)\n",
    "                    if len(node.left.keys) < minSize:\n",
    "                        node.left.keys, node.left.left.keys = node.left.left.keys, node.left.keys\n",
    "                        node.left.valueDict, node.left.left.valueDict = node.left.left.valueDict, node.left.valueDict\n",
    "                    node = self.rightRotate(node)\n",
    " \n",
    "            elif balanceFactor < -1:\n",
    "                if self.getBalance(node.right) <= -1:\n",
    "                    node = self.leftRotate(node)\n",
    "                else:\n",
    "                    node.right = self.rightRotate(node.right)\n",
    "                    node = self.leftRotate(node)\n",
    "            else:\n",
    "                node = node.parent\n",
    "        return tempNode\n",
    " \n",
    "    # Print the tree\n",
    "    def printHelper(self, currPtr, indent, last):\n",
    "        if currPtr != None:\n",
    "            sys.stdout.write(indent)\n",
    "            if last:\n",
    "                sys.stdout.write(\"R----\")\n",
    "                indent += \"     \"\n",
    "            else:\n",
    "                sys.stdout.write(\"L----\")\n",
    "                indent += \"|    \"\n",
    "#             parentPtr = \n",
    "            print(str(currPtr.keys))\n",
    "            self.printHelper(currPtr.left, indent, False)\n",
    "            self.printHelper(currPtr.right, indent, True)"
   ]
  },
  {
   "cell_type": "code",
   "execution_count": 5,
   "metadata": {},
   "outputs": [],
   "source": [
    "myTree = TTree()"
   ]
  },
  {
   "cell_type": "markdown",
   "metadata": {},
   "source": [
    "# DynamicHash"
   ]
  },
  {
   "cell_type": "code",
   "execution_count": 6,
   "metadata": {},
   "outputs": [],
   "source": [
    "class DynamicHash:\n",
    "\n",
    "    def __init__(self,dlugosc=1000):\n",
    "        self.table = [[] for _ in range(dlugosc)]\n",
    "\n",
    "\n",
    "    def insert(self, key, value):\n",
    "        hash_key = hash(key) % len(self.table)\n",
    "        key_exists = False\n",
    "        bucket = self.table[hash_key]\n",
    "        for i, kv in enumerate(bucket):\n",
    "            k, v = kv\n",
    "            if key == k:\n",
    "                key_exists = True \n",
    "                break\n",
    "        if key_exists:\n",
    "            bucket[i] = ((key, value))\n",
    "        else:\n",
    "            bucket.append((key, value))\n",
    "        \n",
    "\n",
    "\n",
    "    def delete(self, key):\n",
    "        hash_key = hash(key) % len(self.table)\t\n",
    "        key_exists = False\n",
    "        bucket = self.table[hash_key]\n",
    "        for i, kv in enumerate(bucket):\n",
    "            k, v = kv \n",
    "            if key == k:\n",
    "                key_exists = True \n",
    "                break\n",
    "        if key_exists:\n",
    "            del bucket[i]\n",
    "            print ('Key {} deleted'.format(key))\n",
    "        else:\n",
    "            print ('Key {} not found'.format(key))\n",
    "            \n",
    "    def search(self, key):\n",
    "        hash_key = hash(key) % len(self.table)\t\n",
    "        bucket = self.table[hash_key]\n",
    "        for i, kv in enumerate(bucket):\n",
    "            k, v = kv\n",
    "            if key == k:\n",
    "                return v\n",
    "            \n",
    "    def search_multiple(self, from_key, end_key):\n",
    "        table_all = []\n",
    "        for i in range(from_key,end_key):\n",
    "            table_all.append(self.search(i))\n",
    "        print(table_all)"
   ]
  },
  {
   "cell_type": "markdown",
   "metadata": {},
   "source": [
    "# Testy"
   ]
  },
  {
   "cell_type": "markdown",
   "metadata": {},
   "source": [
    "## Szukanie pojedynczych wartości"
   ]
  },
  {
   "cell_type": "code",
   "execution_count": 7,
   "metadata": {},
   "outputs": [],
   "source": [
    "def single_search_AVL_tree(input_data, search):\n",
    "    myTree = AVLTree()\n",
    "    root = None\n",
    "    for num in input_data:\n",
    "        root = myTree.insert_node(root, num)\n",
    "\n",
    "    start = time.time_ns()\n",
    "    \n",
    "    for i in search:\n",
    "        myTree.find(root, i)\n",
    "        \n",
    "    duration = time.time_ns() - start    \n",
    "\n",
    "    return duration"
   ]
  },
  {
   "cell_type": "code",
   "execution_count": 8,
   "metadata": {},
   "outputs": [],
   "source": [
    "def single_search_T_tree(input_data, search):\n",
    "    myTree = TTree()\n",
    "    root = None\n",
    "    for num in input_data:\n",
    "        (root, newNode) = myTree.new_insert_node(root, None, num)\n",
    "        if newNode:\n",
    "            root = myTree.balanceTree(newNode, None)\n",
    "    \n",
    "    start = time.time_ns()\n",
    "    \n",
    "    for i in search:\n",
    "        myTree.find(root,i)\n",
    "        \n",
    "    duration = time.time_ns() - start\n",
    "    \n",
    "    return duration"
   ]
  },
  {
   "cell_type": "code",
   "execution_count": 9,
   "metadata": {},
   "outputs": [],
   "source": [
    "def single_search_DynamicHash(input_data,search):\n",
    "    g = DynamicHash()\n",
    "    \n",
    "    for i in input_data:\n",
    "        g.insert(i, '')\n",
    "    \n",
    "    start = time.time_ns()\n",
    "    for i in search:\n",
    "        g.search(i)\n",
    "    duration = time.time_ns() - start\n",
    "    return duration"
   ]
  },
  {
   "cell_type": "markdown",
   "metadata": {},
   "source": [
    "## Szukanie przedziałowe"
   ]
  },
  {
   "cell_type": "code",
   "execution_count": 10,
   "metadata": {},
   "outputs": [],
   "source": [
    "class SearchRange:\n",
    "    def __init__(self, start, end):\n",
    "        self.start = start\n",
    "        self.end = end\n",
    "    def __str__(self):\n",
    "        return \"start: \"+ str(self.start) + \", end:\" + str(self.end)"
   ]
  },
  {
   "cell_type": "code",
   "execution_count": 11,
   "metadata": {},
   "outputs": [],
   "source": [
    "def range_search_AVL_tree(input_data, searchRange):\n",
    "    myTree = AVLTree()\n",
    "    root = None\n",
    "    for num in input_data:\n",
    "        root = myTree.insert_node(root, num)\n",
    "\n",
    "    start = time.time_ns()\n",
    "    \n",
    "    for i in searchRange:\n",
    "        myTree.rangeSearch(root, int(i.start), int(i.end))\n",
    "        \n",
    "    duration =time.time_ns() - start    \n",
    "\n",
    "    return duration"
   ]
  },
  {
   "cell_type": "code",
   "execution_count": 12,
   "metadata": {},
   "outputs": [],
   "source": [
    "def range_search_T_tree(input_data, searchRange):\n",
    "    myTree = TTree()\n",
    "    root = None\n",
    "    for num in input_data:\n",
    "        (root, newNode) = myTree.new_insert_node(root, None, num)\n",
    "        if newNode:\n",
    "            root = myTree.balanceTree(newNode, None)\n",
    "\n",
    "    start = time.time_ns()\n",
    "    \n",
    "    for i in searchRange:\n",
    "        myTree.rangeSearch(root, int(i.start), int(i.end))\n",
    "        \n",
    "    duration = time.time_ns() - start    \n",
    "\n",
    "    return duration"
   ]
  },
  {
   "cell_type": "code",
   "execution_count": 13,
   "metadata": {},
   "outputs": [],
   "source": [
    "def range_search_DynamicHash(input_data,searchRange):\n",
    "    g = DynamicHash()\n",
    "    \n",
    "    for i in input_data:\n",
    "        g.insert(i, '')\n",
    "    \n",
    "    start = time.time_ns()\n",
    "    for i in searchRange:\n",
    "        g.search_multiple(int(i.start), int(i.end))\n",
    "    duration = time.time_ns() - start\n",
    "    return duration"
   ]
  },
  {
   "cell_type": "markdown",
   "metadata": {},
   "source": [
    "### Wstawianie "
   ]
  },
  {
   "cell_type": "code",
   "execution_count": 14,
   "metadata": {},
   "outputs": [],
   "source": [
    "def add_to_AVL_tree(start,to_add):\n",
    "    myTree = AVLTree()\n",
    "    root = None\n",
    "    for num in start:\n",
    "        root = myTree.insert_node(root, num)\n",
    "        \n",
    "    start = time.time_ns()\n",
    "    for i in to_add:\n",
    "        root = myTree.insert_node(root, i)\n",
    "    duration =time.time_ns() - start    \n",
    "\n",
    "    return duration\n",
    "    "
   ]
  },
  {
   "cell_type": "code",
   "execution_count": 15,
   "metadata": {},
   "outputs": [],
   "source": [
    "def add_to_T_tree(start,to_add):\n",
    "    myTree = TTree()\n",
    "    root = None\n",
    "    for num in start:\n",
    "        (root, newNode) = myTree.new_insert_node(root, None, num)\n",
    "        if newNode:\n",
    "            root = myTree.balanceTree(newNode, None)\n",
    "\n",
    "    start = time.time_ns()\n",
    "    \n",
    "    for num in to_add:\n",
    "        (root, newNode) = myTree.new_insert_node(root, None, num)\n",
    "        if newNode:\n",
    "            root = myTree.balanceTree(newNode, None)\n",
    "        \n",
    "    duration = time.time_ns() - start    \n",
    "\n",
    "    return duration"
   ]
  },
  {
   "cell_type": "code",
   "execution_count": 16,
   "metadata": {},
   "outputs": [],
   "source": [
    "def add_DynamicHash(start,to_add):\n",
    "    g = DynamicHash()\n",
    "    \n",
    "    for i in start:\n",
    "        g.insert(i, '')\n",
    "    \n",
    "    start = time.time_ns()\n",
    "    for i in to_add:\n",
    "        g.insert(i, '')\n",
    "    duration = time.time_ns() - start\n",
    "    return duration"
   ]
  },
  {
   "cell_type": "markdown",
   "metadata": {},
   "source": [
    "## Usuwanie"
   ]
  },
  {
   "cell_type": "code",
   "execution_count": 17,
   "metadata": {},
   "outputs": [],
   "source": [
    "def delete_AVL_tree(input_data, delete):\n",
    "    myTree = AVLTree()\n",
    "    root = None\n",
    "    for num in input_data:\n",
    "        root = myTree.insert_node(root, num)\n",
    "\n",
    "    start = datetime.datetime.now()\n",
    "    \n",
    "    for i in delete:\n",
    "        myTree.delete_node(root, i)\n",
    "        \n",
    "    duration = datetime.datetime.now() - start    \n",
    "\n",
    "    return duration.microseconds"
   ]
  },
  {
   "cell_type": "code",
   "execution_count": 18,
   "metadata": {},
   "outputs": [],
   "source": [
    "def delete_T_tree(input_data, delete):\n",
    "    myTree = TTree()\n",
    "    root = None\n",
    "    for num in input_data:\n",
    "        (root, newNode) = myTree.new_insert_node(root, None, num)\n",
    "        if newNode:\n",
    "            root = myTree.balanceTree(newNode, None)\n",
    "    \n",
    "    start = datetime.datetime.now()\n",
    "    \n",
    "    for i in delete:\n",
    "        newRoot = myTree.delete_node(root, i)\n",
    "        if newRoot:\n",
    "            root = newRoot\n",
    "        \n",
    "    duration = datetime.datetime.now() - start\n",
    "\n",
    "    return duration.microseconds"
   ]
  },
  {
   "cell_type": "code",
   "execution_count": 19,
   "metadata": {},
   "outputs": [],
   "source": [
    "def delete_DynamicHash(input_data, delete):\n",
    "    g = DynamicHash()\n",
    "    \n",
    "    for i in input_data:\n",
    "        g.insert(i, '')\n",
    "    \n",
    "    start = time.time_ns()\n",
    "    for i in delete:\n",
    "        g.delete(i)\n",
    "    duration = time.time_ns() - start\n",
    "    return duration"
   ]
  },
  {
   "cell_type": "markdown",
   "metadata": {},
   "source": [
    "# TESTY"
   ]
  },
  {
   "cell_type": "markdown",
   "metadata": {},
   "source": [
    "### Single"
   ]
  },
  {
   "cell_type": "code",
   "execution_count": 20,
   "metadata": {},
   "outputs": [],
   "source": [
    "%%capture\n",
    "x = []\n",
    "avl = []\n",
    "ttree = []\n",
    "exthash = []\n",
    "for i in range(10000,100000,10000): #[13000]\n",
    "    input_data = [j for j in range(0,i)] \n",
    "    \n",
    "    search = random.sample(input_data, int(i/10))#2000\n",
    "    x.append(i)\n",
    "    avl.append(single_search_AVL_tree(input_data,search))\n",
    "    ttree.append(single_search_T_tree(input_data,search))\n",
    "    exthash.append(single_search_DynamicHash(input_data,search))"
   ]
  },
  {
   "cell_type": "code",
   "execution_count": 21,
   "metadata": {},
   "outputs": [
    {
     "data": {
      "image/png": "[encoded data removed]",
      "text/plain": [
       "<Figure size 864x432 with 1 Axes>"
      ]
     },
     "metadata": {
      "needs_background": "light"
     },
     "output_type": "display_data"
    }
   ],
   "source": [
    "plt.figure(figsize=(12, 6))\n",
    "plt.plot(x,avl, label = \"avl\")\n",
    "plt.plot(x, ttree, label = \"ttree\")\n",
    "plt.plot(x, exthash, label = \"exthash\")\n",
    "plt.legend()\n",
    "plt.yscale('log')\n",
    "plt.show()"
   ]
  },
  {
   "cell_type": "markdown",
   "metadata": {},
   "source": [
    "### Range 10%"
   ]
  },
  {
   "cell_type": "code",
   "execution_count": 22,
   "metadata": {},
   "outputs": [
    {
     "name": "stdout",
     "output_type": "stream",
     "text": [
      "start: 3, end:98\n"
     ]
    }
   ],
   "source": [
    "def gen_range(max_range,number_in_ranges,num):\n",
    "    k=[]\n",
    "    for i in range(0,num):\n",
    "        tmp = random .randrange(max_range-number_in_ranges);\n",
    "        k.append(SearchRange(tmp,tmp+number_in_ranges))\n",
    "    return k\n",
    "print(gen_range(100,95,10)[0])"
   ]
  },
  {
   "cell_type": "code",
   "execution_count": 23,
   "metadata": {},
   "outputs": [],
   "source": [
    "%%capture\n",
    "x = []\n",
    "avl = []\n",
    "ttree = []\n",
    "exthash = []\n",
    "for i in range(20000,100000,10000): #[13000]\n",
    "    input_data = [j for j in range(0,i)] \n",
    "    search = gen_range(i,i/10,10)\n",
    "    x.append(i)\n",
    "    avl.append(range_search_AVL_tree(input_data,search))\n",
    "    ttree.append(range_search_T_tree(input_data,search))\n",
    "    exthash.append(range_search_DynamicHash(input_data,search))"
   ]
  },
  {
   "cell_type": "code",
   "execution_count": 24,
   "metadata": {
    "scrolled": false
   },
   "outputs": [
    {
     "data": {
      "image/png": "[encoded data removed]",
      "text/plain": [
       "<Figure size 864x432 with 1 Axes>"
      ]
     },
     "metadata": {
      "needs_background": "light"
     },
     "output_type": "display_data"
    }
   ],
   "source": [
    "plt.figure(figsize=(12, 6))\n",
    "plt.plot(x,avl, label = \"avl\")\n",
    "plt.plot(x, ttree, label = \"ttree\")\n",
    "plt.plot(x, exthash, label = \"exthash\")\n",
    "plt.legend()\n",
    "plt.yscale('log')\n",
    "plt.show()"
   ]
  },
  {
   "cell_type": "markdown",
   "metadata": {},
   "source": [
    "### Range 5%-50%"
   ]
  },
  {
   "cell_type": "code",
   "execution_count": 25,
   "metadata": {},
   "outputs": [],
   "source": [
    "%%capture\n",
    "x = []\n",
    "avl = []\n",
    "ttree = []\n",
    "exthash = []\n",
    "for i in np.arange(0.05,0.51,0.05): #[13000]\n",
    "    input_data = [j for j in range(0,50000)] \n",
    "    search = gen_range(50000,int(50000*i),5)\n",
    "    x.append(i)\n",
    "    avl.append(range_search_AVL_tree(input_data,search))\n",
    "    ttree.append(range_search_T_tree(input_data,search))\n",
    "    exthash.append(range_search_DynamicHash(input_data,search))"
   ]
  },
  {
   "cell_type": "code",
   "execution_count": 26,
   "metadata": {},
   "outputs": [
    {
     "data": {
      "image/png": "[encoded data removed]",
      "text/plain": [
       "<Figure size 864x432 with 1 Axes>"
      ]
     },
     "metadata": {
      "needs_background": "light"
     },
     "output_type": "display_data"
    }
   ],
   "source": [
    "plt.figure(figsize=(12, 6))\n",
    "plt.plot(x,avl, label = \"avl\")\n",
    "plt.plot(x, ttree, label = \"ttree\")\n",
    "plt.plot(x, exthash, label = \"exthash\")\n",
    "plt.legend()\n",
    "plt.yscale('log')\n",
    "plt.show()"
   ]
  },
  {
   "cell_type": "markdown",
   "metadata": {},
   "source": [
    "### Insert"
   ]
  },
  {
   "cell_type": "code",
   "execution_count": 27,
   "metadata": {},
   "outputs": [],
   "source": [
    "%%capture\n",
    "x = []\n",
    "avl = []\n",
    "ttree = []\n",
    "exthash = []\n",
    "for i in range(20000,100000,10000): #[13000]\n",
    "    input_data = [j for j in range(0,i)] \n",
    "    \n",
    "    random.shuffle(input_data)\n",
    "    k = int(len(input_data)*0.9)\n",
    "    start = input_data[:k]\n",
    "    to_add = input_data[k:]\n",
    "    x.append(i)\n",
    "    avl.append(add_to_AVL_tree(start,to_add))\n",
    "    ttree.append(add_to_T_tree(start,to_add))\n",
    "    exthash.append(add_DynamicHash(start,to_add))"
   ]
  },
  {
   "cell_type": "code",
   "execution_count": 28,
   "metadata": {},
   "outputs": [
    {
     "data": {
      "image/png": "[encoded data removed]",
      "text/plain": [
       "<Figure size 864x432 with 1 Axes>"
      ]
     },
     "metadata": {
      "needs_background": "light"
     },
     "output_type": "display_data"
    }
   ],
   "source": [
    "plt.figure(figsize=(12, 6))\n",
    "plt.plot(x,avl, label = \"avl\")\n",
    "plt.plot(x, ttree, label = \"ttree\")\n",
    "plt.plot(x, exthash, label = \"exthash\")\n",
    "plt.legend()\n",
    "plt.yscale('log')\n",
    "plt.show()"
   ]
  },
  {
   "cell_type": "markdown",
   "metadata": {},
   "source": [
    "### Delete "
   ]
  },
  {
   "cell_type": "code",
   "execution_count": 29,
   "metadata": {},
   "outputs": [],
   "source": [
    "%%capture\n",
    "x = []\n",
    "avl = []\n",
    "ttree = []\n",
    "exthash = []\n",
    "for i in range(20000,100000,10000): #[13000]\n",
    "    input_data = [j for j in range(0,i)] \n",
    "    delete_data = random.sample(input_data, int(len(input_data)/10))\n",
    "    x.append(i)\n",
    "    avl.append(delete_AVL_tree(input_data,delete_data))\n",
    "    ttree.append(delete_T_tree(input_data,delete_data))\n",
    "    exthash.append(delete_DynamicHash(input_data,delete_data))"
   ]
  },
  {
   "cell_type": "code",
   "execution_count": 30,
   "metadata": {},
   "outputs": [
    {
     "data": {
      "image/png": "[encoded data removed]",
      "text/plain": [
       "<Figure size 864x432 with 1 Axes>"
      ]
     },
     "metadata": {
      "needs_background": "light"
     },
     "output_type": "display_data"
    }
   ],
   "source": [
    "plt.figure(figsize=(12, 6))\n",
    "plt.plot(x,avl, label = \"avl\")\n",
    "plt.plot(x, ttree, label = \"ttree\")\n",
    "plt.plot(x, exthash, label = \"exthash\")\n",
    "plt.legend()\n",
    "plt.yscale('log')\n",
    "plt.show()"
   ]
  },
  {
   "cell_type": "markdown",
   "metadata": {},
   "source": [
    "# Brudnopis"
   ]
  },
  {
   "cell_type": "code",
   "execution_count": null,
   "metadata": {},
   "outputs": [],
   "source": []
  }
 ],
 "metadata": {
  "kernelspec": {
   "display_name": "Python 3",
   "language": "python",
   "name": "python3"
  },
  "language_info": {
   "codemirror_mode": {
    "name": "ipython",
    "version": 3
   },
   "file_extension": ".py",
   "mimetype": "text/x-python",
   "name": "python",
   "nbconvert_exporter": "python",
   "pygments_lexer": "ipython3",
   "version": "3.7.6"
  }
 },
 "nbformat": 4,
 "nbformat_minor": 4
}
