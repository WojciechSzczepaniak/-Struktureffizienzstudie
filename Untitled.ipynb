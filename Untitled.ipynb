{
 "cells": [
  {
   "cell_type": "code",
   "execution_count": 10,
   "id": "3d2e58b9",
   "metadata": {},
   "outputs": [
    {
     "name": "stdout",
     "output_type": "stream",
     "text": [
      "[[], [], [], [], [], [], [], [], [], []]\n"
     ]
    }
   ],
   "source": [
    "hash_table = [[] for _ in range(10)]\n",
    "print (hash_table)\n",
    "# Output: \n",
    "# [[], [], [], [], [], [], [], [], [], []]"
   ]
  },
  {
   "cell_type": "code",
   "execution_count": 11,
   "id": "4fe003b1",
   "metadata": {},
   "outputs": [
    {
     "name": "stdout",
     "output_type": "stream",
     "text": [
      "[[], [], [], [], [], [], [], [], [], []]\n"
     ]
    }
   ],
   "source": [
    "def insert(hash_table, key, value):\n",
    "    hash_key = hash(key) % len(hash_table)\n",
    "    key_exists = False\n",
    "    bucket = hash_table[hash_key]\n",
    "    for i, kv in enumerate(bucket):\n",
    "        k, v = kv\n",
    "        if key == k:\n",
    "            key_exists = True \n",
    "            break\n",
    "    if key_exists:\n",
    "            bucket[i] = ((key, value))\n",
    "        else:\n",
    "            bucket.append((key, value))\n",
    "\n",
    "\n",
    "insert(hash_table, 10, 'Nepal')\n",
    "insert(hash_table, 25, 'USA')\n",
    "insert(hash_table, 20, 'India')\n",
    "print (hash_table)\n",
    "# Output:\n",
    "# [[(10, 'Nepal'), (20, 'India')], [], [], [], [], [(25, 'USA')], [], [], [], []]"
   ]
  },
  {
   "cell_type": "code",
   "execution_count": 8,
   "id": "aaf6f375",
   "metadata": {},
   "outputs": [
    {
     "name": "stdout",
     "output_type": "stream",
     "text": [
      "None\n",
      "None\n",
      "None\n"
     ]
    }
   ],
   "source": [
    "def search(hash_table, key):\n",
    "    hash_key = hash(key) % len(hash_table)\t\n",
    "    bucket = hash_table[hash_key]\n",
    "    for i, kv in enumerate(bucket):\n",
    "        k, v = kv\n",
    "        if key == k:\n",
    "            return v\n",
    "\n",
    "print (search(hash_table, 10)) # Output: Nepal\n",
    "print (search(hash_table, 20)) # Output: India\n",
    "print (search(hash_table, 30)) # Output: None"
   ]
  },
  {
   "cell_type": "code",
   "execution_count": null,
   "id": "b6590009",
   "metadata": {},
   "outputs": [],
   "source": [
    "def delete(hash_table, key):\n",
    "    hash_key = hash(key) % len(hash_table)\t\n",
    "    key_exists = False\n",
    "    bucket = hash_table[hash_key]\n",
    "    for i, kv in enumerate(bucket):\n",
    "        k, v = kv \n",
    "        if key == k:\n",
    "            key_exists = True \n",
    "            break\n",
    "    if key_exists:\n",
    "        del bucket[i]\n",
    "        print ('Key {} deleted'.format(key))\n",
    "    else:\n",
    "        print ('Key {} not found'.format(key))\n",
    "\n",
    "\n",
    "delete(hash_table, 100)\n",
    "print (hash_table)\n",
    "# Output:\n",
    "# Key 100 not found\n",
    "# [[(10, 'Nepal'), (20, 'India')], [], [], [], [], [(25, 'USA')], [], [], [], []]\n",
    "\n",
    "delete(hash_table, 10)\n",
    "print (hash_table)\n",
    "# Output:\n",
    "# Key 10 deleted\n",
    "# [[(20, 'India')], [], [], [], [], [(25, 'USA')], [], [], [], []]"
   ]
  },
  {
   "cell_type": "code",
   "execution_count": null,
   "id": "5e36290f",
   "metadata": {},
   "outputs": [],
   "source": []
  }
 ],
 "metadata": {
  "kernelspec": {
   "display_name": "Python 3 (ipykernel)",
   "language": "python",
   "name": "python3"
  },
  "language_info": {
   "codemirror_mode": {
    "name": "ipython",
    "version": 3
   },
   "file_extension": ".py",
   "mimetype": "text/x-python",
   "name": "python",
   "nbconvert_exporter": "python",
   "pygments_lexer": "ipython3",
   "version": "3.9.7"
  }
 },
 "nbformat": 4,
 "nbformat_minor": 5
}
