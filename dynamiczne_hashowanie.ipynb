{
 "cells": [
  {
   "cell_type": "code",
   "execution_count": 10,
   "id": "b3fb676c",
   "metadata": {},
   "outputs": [
    {
     "name": "stdout",
     "output_type": "stream",
     "text": [
      "[[], [], [], [], [], [], [], [], [], []]\n"
     ]
    }
   ],
   "source": [
    "hash_table = [[] for _ in range(10)]\n",
    "print (hash_table)\n",
    "# Output: \n",
    "# [[], [], [], [], [], [], [], [], [], []]"
   ]
  },
  {
   "cell_type": "code",
   "execution_count": 16,
   "id": "a0529e18",
   "metadata": {},
   "outputs": [
    {
     "name": "stdout",
     "output_type": "stream",
     "text": [
      "[[(20, 'India'), (0, 'Nepal'), (10, 'USA'), (30, 'Nepal'), (40, 'USA'), (50, 'India'), (60, 'Nepal'), (70, 'USA'), (80, 'India'), (90, 'Nepal')], [(1, 'USA'), (11, 'India'), (21, 'Nepal'), (31, 'USA'), (41, 'India'), (51, 'Nepal'), (61, 'USA'), (71, 'India'), (81, 'Nepal'), (91, 'USA')], [(2, 'India'), (12, 'Nepal'), (22, 'USA'), (32, 'India'), (42, 'Nepal'), (52, 'USA'), (62, 'India'), (72, 'Nepal'), (82, 'USA'), (92, 'India')], [(3, 'Nepal'), (13, 'USA'), (23, 'India'), (33, 'Nepal'), (43, 'USA'), (53, 'India'), (63, 'Nepal'), (73, 'USA'), (83, 'India'), (93, 'Nepal')], [(4, 'USA'), (14, 'India'), (24, 'Nepal'), (34, 'USA'), (44, 'India'), (54, 'Nepal'), (64, 'USA'), (74, 'India'), (84, 'Nepal'), (94, 'USA')], [(25, 'USA'), (5, 'India'), (15, 'Nepal'), (35, 'India'), (45, 'Nepal'), (55, 'USA'), (65, 'India'), (75, 'Nepal'), (85, 'USA'), (95, 'India')], [(6, 'Nepal'), (16, 'USA'), (26, 'India'), (36, 'Nepal'), (46, 'USA'), (56, 'India'), (66, 'Nepal'), (76, 'USA'), (86, 'India'), (96, 'Nepal')], [(7, 'USA'), (17, 'India'), (27, 'Nepal'), (37, 'USA'), (47, 'India'), (57, 'Nepal'), (67, 'USA'), (77, 'India'), (87, 'Nepal'), (97, 'USA')], [(8, 'India'), (18, 'Nepal'), (28, 'USA'), (38, 'India'), (48, 'Nepal'), (58, 'USA'), (68, 'India'), (78, 'Nepal'), (88, 'USA'), (98, 'India')], [(9, 'Nepal'), (19, 'USA'), (29, 'India'), (39, 'Nepal'), (49, 'USA'), (59, 'India'), (69, 'Nepal'), (79, 'USA'), (89, 'India'), (99, 'Nepal')]]\n"
     ]
    }
   ],
   "source": [
    "def insert(hash_table, key, value):\n",
    "    hash_key = hash(key) % len(hash_table)\n",
    "    key_exists = False\n",
    "    bucket = hash_table[hash_key]\n",
    "    for i, kv in enumerate(bucket):\n",
    "        k, v = kv\n",
    "        if key == k:\n",
    "            key_exists = True \n",
    "            break\n",
    "    if key_exists:\n",
    "        bucket[i] = ((key, value))\n",
    "    else:\n",
    "        bucket.append((key, value))\n",
    "\n",
    "g = [\"Nepal\",'USA',\"India\"]\n",
    "for i in range(100):\n",
    "    insert(hash_table, i, g[i%3])\n",
    "    \n",
    "print (hash_table)\n",
    "# Output:\n",
    "# [[(10, 'Nepal'), (20, 'India')], [], [], [], [], [(25, 'USA')], [], [], [], []]"
   ]
  },
  {
   "cell_type": "code",
   "execution_count": 13,
   "id": "d4017201",
   "metadata": {},
   "outputs": [
    {
     "name": "stdout",
     "output_type": "stream",
     "text": [
      "Nepal\n",
      "India\n",
      "None\n"
     ]
    }
   ],
   "source": [
    "def search(hash_table, key):\n",
    "    hash_key = hash(key) % len(hash_table)\t\n",
    "    bucket = hash_table[hash_key]\n",
    "    for i, kv in enumerate(bucket):\n",
    "        k, v = kv\n",
    "        if key == k:\n",
    "            return v\n",
    "\n",
    "print (search(hash_table, 10)) # Output: Nepal\n",
    "print (search(hash_table, 20)) # Output: India\n",
    "print (search(hash_table, 30)) # Output: None"
   ]
  },
  {
   "cell_type": "code",
   "execution_count": 14,
   "id": "da2512a7",
   "metadata": {},
   "outputs": [
    {
     "name": "stdout",
     "output_type": "stream",
     "text": [
      "Key 100 not found\n",
      "[[(10, 'Nepal'), (20, 'India')], [], [], [], [], [(25, 'USA')], [], [], [], []]\n",
      "Key 10 deleted\n",
      "[[(20, 'India')], [], [], [], [], [(25, 'USA')], [], [], [], []]\n"
     ]
    }
   ],
   "source": [
    "def delete(hash_table, key):\n",
    "    hash_key = hash(key) % len(hash_table)\t\n",
    "    key_exists = False\n",
    "    bucket = hash_table[hash_key]\n",
    "    for i, kv in enumerate(bucket):\n",
    "        k, v = kv \n",
    "        if key == k:\n",
    "            key_exists = True \n",
    "            break\n",
    "    if key_exists:\n",
    "        del bucket[i]\n",
    "        print ('Key {} deleted'.format(key))\n",
    "    else:\n",
    "        print ('Key {} not found'.format(key))\n",
    "\n",
    "\n",
    "delete(hash_table, 100)\n",
    "print (hash_table)\n",
    "# Output:\n",
    "# Key 100 not found\n",
    "# [[(10, 'Nepal'), (20, 'India')], [], [], [], [], [(25, 'USA')], [], [], [], []]\n",
    "\n",
    "delete(hash_table, 10)\n",
    "print (hash_table)\n",
    "# Output:\n",
    "# Key 10 deleted\n",
    "# [[(20, 'India')], [], [], [], [], [(25, 'USA')], [], [], [], []]"
   ]
  },
  {
   "cell_type": "code",
   "execution_count": null,
   "id": "185dca04",
   "metadata": {},
   "outputs": [],
   "source": []
  }
 ],
 "metadata": {
  "kernelspec": {
   "display_name": "Python 3 (ipykernel)",
   "language": "python",
   "name": "python3"
  },
  "language_info": {
   "codemirror_mode": {
    "name": "ipython",
    "version": 3
   },
   "file_extension": ".py",
   "mimetype": "text/x-python",
   "name": "python",
   "nbconvert_exporter": "python",
   "pygments_lexer": "ipython3",
   "version": "3.9.7"
  }
 },
 "nbformat": 4,
 "nbformat_minor": 5
}
